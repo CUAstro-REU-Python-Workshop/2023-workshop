{
 "cells": [
  {
   "cell_type": "markdown",
   "metadata": {
    "id": "DfrVRKLDGD5R"
   },
   "source": [
    "# 2023 Summer Python Workshop\n",
    "\n",
    "This notebook follows a 1 hour tutorial/lecture covering some of the basics of Python. By this point in the workshop, you will have created a working environment with the necessary packages, and will be ready to import the ones you expect to use. This can be done in any cell in the notebook, but is best done at the top to keep track. The notebook will cover how to create and manipulate arrays, how to use python's object-oriented class structures, and some advice on how to make sure your code stays reasonably performant."
   ]
  },
  {
   "cell_type": "markdown",
   "metadata": {
    "id": "3UUfuxSthf_j"
   },
   "source": [
    "Most work in python starts with importing packages written by others or yourself. It can be useful to import commonly used packages with shortened names:"
   ]
  },
  {
   "cell_type": "code",
   "execution_count": 3,
   "metadata": {
    "id": "8V2m2_1PgRrP"
   },
   "outputs": [],
   "source": [
    "import numpy as np\n",
    "import matplotlib.pyplot as plt\n",
    "import pandas as pd"
   ]
  },
  {
   "cell_type": "markdown",
   "metadata": {},
   "source": [
    "If you try to import a package and get a `ModuleNotFoundError: No module named '<package name>'` output, you will have to go to your command line and install the package to your working environment with either `conda install <package name>` or `pip install <package name>`. In this case, it's possible you don't have pandas installed. **You won't need it for this exercise**, but for future reference you may want to `conda install pandas`. "
   ]
  },
  {
   "cell_type": "markdown",
   "metadata": {},
   "source": [
    "If you only want one function from a package, you can specify that at import:"
   ]
  },
  {
   "cell_type": "code",
   "execution_count": 4,
   "metadata": {
    "colab": {
     "base_uri": "https://localhost:8080/"
    },
    "id": "nZ7R_qBXhpSE",
    "outputId": "378142d3-67a9-4a97-902d-b6e2f4c8e494"
   },
   "outputs": [
    {
     "name": "stdout",
     "output_type": "stream",
     "text": [
      "3.0\n"
     ]
    }
   ],
   "source": [
    "from math import sqrt\n",
    "print(sqrt(9))"
   ]
  },
  {
   "cell_type": "markdown",
   "metadata": {
    "id": "dW2CRWjbiIrn"
   },
   "source": [
    "or you can import a package and specify the package each time you use a function from it: "
   ]
  },
  {
   "cell_type": "code",
   "execution_count": 5,
   "metadata": {
    "colab": {
     "base_uri": "https://localhost:8080/"
    },
    "id": "t1BFK1DAiHvM",
    "outputId": "3adc36b9-c5c0-45a0-d999-f9a21bba0029"
   },
   "outputs": [
    {
     "name": "stdout",
     "output_type": "stream",
     "text": [
      "3.0\n"
     ]
    }
   ],
   "source": [
    "import math\n",
    "print(math.sqrt(9))"
   ]
  },
  {
   "cell_type": "markdown",
   "metadata": {
    "id": "zmjfOKhdi0-I"
   },
   "source": [
    "# Working with Arrays\n",
    "From images (values distributed over space) to time series (values distributed over time) to spectra (values distributed over wavelength) to combinations of the above and much more, the Array (sometimes called a Tensor) is the fundamental datatype of most physical programming.\n",
    "\n",
    "Arrays are sets of numbers of a given shape and dimension. The dimension is the number of axes, and the shape is a tuple representing the size of each.\n",
    "\n",
    "Let's make some arrays that we can work with.\n",
    "\n",
    "## Populating Arrays\n",
    "\n",
    "This can be done in a few ways. "
   ]
  },
  {
   "cell_type": "code",
   "execution_count": 6,
   "metadata": {
    "id": "Udd5vnQ9i5FH"
   },
   "outputs": [
    {
     "name": "stdout",
     "output_type": "stream",
     "text": [
      "[1 2 3]\n",
      "[[1 2 3]\n",
      " [4 5 6]]\n",
      "[-5 -4 -3 -2 -1  0  1  2  3  4  5]\n",
      "[  0.   2.   4.   6.   8.  10.  12.  14.  16.  18.  20.  22.  24.  26.\n",
      "  28.  30.  32.  34.  36.  38.  40.  42.  44.  46.  48.  50.  52.  54.\n",
      "  56.  58.  60.  62.  64.  66.  68.  70.  72.  74.  76.  78.  80.  82.\n",
      "  84.  86.  88.  90.  92.  94.  96.  98. 100.]\n"
     ]
    }
   ],
   "source": [
    "#manually defining a 1d array\n",
    "myarray = np.array([1, 2, 3])\n",
    "print(myarray)\n",
    "\n",
    "#manually defining a 2d array \n",
    "my2darray = np.array([[1,2,3],[4,5,6]])\n",
    "print(my2darray)\n",
    "\n",
    "#generating numbers between -5 and 5 with spacing 1\n",
    "x_data_arange = np.arange(-5, 6, 1)\n",
    "print(x_data_arange)\n",
    "\n",
    "#generating 51 numbers evenly spaced between 1-100\n",
    "x_data_linspace = np.linspace(0, 100, 51)\n",
    "print(x_data_linspace)"
   ]
  },
  {
   "cell_type": "markdown",
   "metadata": {},
   "source": [
    "## Indexing\n",
    "\n",
    "We can use our linspace array to show some easy ways to find the value of a particular element in your array. "
   ]
  },
  {
   "cell_type": "code",
   "execution_count": 7,
   "metadata": {},
   "outputs": [
    {
     "name": "stdout",
     "output_type": "stream",
     "text": [
      "[  0.   2.   4.   6.   8.  10.  12.  14.  16.  18.  20.  22.  24.  26.\n",
      "  28.  30.  32.  34.  36.  38.  40.  42.  44.  46.  48.  50.  52.  54.\n",
      "  56.  58.  60.  62.  64.  66.  68.  70.  72.  74.  76.  78.  80.  82.\n",
      "  84.  86.  88.  90.  92.  94.  96.  98. 100.]\n",
      "0.0\n",
      "\n",
      "100.0\n",
      "\n",
      "18.0\n",
      "\n",
      "[  0.   4.   8.  12.  16.  20.  24.  28.  32.  36.  40.  44.  48.  52.\n",
      "  56.  60.  64.  68.  72.  76.  80.  84.  88.  92.  96. 100.]\n",
      "[ 2.  6. 10. 14. 18. 22. 26. 30. 34. 38. 42. 46. 50. 54. 58. 62. 66. 70.\n",
      " 74. 78. 82. 86. 90. 94. 98.]\n"
     ]
    }
   ],
   "source": [
    "print(x_data_linspace)\n",
    "\n",
    "#getting the first entry\n",
    "first_entry = x_data_linspace[0]\n",
    "print(first_entry)\n",
    "print()\n",
    "\n",
    "#getting the last entry\n",
    "last_entry = x_data_linspace[-1]\n",
    "print(last_entry)\n",
    "print()\n",
    "\n",
    "#getting the 10th entry (remember that python indexes from zero!)\n",
    "tenth_entry = x_data_linspace[9]\n",
    "print(tenth_entry)\n",
    "print()\n",
    "\n",
    "#getting every even index values\n",
    "print(x_data_linspace[::2])\n",
    "\n",
    "#...and every odd\n",
    "print(x_data_linspace[1::2])"
   ]
  },
  {
   "cell_type": "markdown",
   "metadata": {},
   "source": [
    "## Simple Operations\n",
    "\n",
    "In the sections below, you will see more benefits of using numpy arrays instead of other object types, like lists. One example of this is that you can much more easily do basic operations on an entire numpy array. "
   ]
  },
  {
   "cell_type": "code",
   "execution_count": 8,
   "metadata": {},
   "outputs": [
    {
     "name": "stdout",
     "output_type": "stream",
     "text": [
      "<class 'list'>\n",
      "[0, 1, 2, 3, 4]\n"
     ]
    },
    {
     "ename": "TypeError",
     "evalue": "can only concatenate list (not \"int\") to list",
     "output_type": "error",
     "traceback": [
      "\u001b[0;31m---------------------------------------------------------------------------\u001b[0m",
      "\u001b[0;31mTypeError\u001b[0m                                 Traceback (most recent call last)",
      "Cell \u001b[0;32mIn[8], line 4\u001b[0m\n\u001b[1;32m      2\u001b[0m \u001b[38;5;28mprint\u001b[39m(\u001b[38;5;28mtype\u001b[39m(example_list))\n\u001b[1;32m      3\u001b[0m \u001b[38;5;28mprint\u001b[39m(example_list)\n\u001b[0;32m----> 4\u001b[0m \u001b[38;5;28mprint\u001b[39m(\u001b[43mexample_list\u001b[49m\u001b[43m \u001b[49m\u001b[38;5;241;43m+\u001b[39;49m\u001b[43m \u001b[49m\u001b[38;5;241;43m1\u001b[39;49m)\n",
      "\u001b[0;31mTypeError\u001b[0m: can only concatenate list (not \"int\") to list"
     ]
    }
   ],
   "source": [
    "example_list = [0,1,2,3,4]\n",
    "print(type(example_list))\n",
    "print(example_list)\n",
    "print(example_list + 1)"
   ]
  },
  {
   "cell_type": "markdown",
   "metadata": {},
   "source": [
    "You'll get a `TypeError` if you try to add 1 to your list of numbers. However, if you try to do the same to a numpy array:"
   ]
  },
  {
   "cell_type": "code",
   "execution_count": 9,
   "metadata": {},
   "outputs": [
    {
     "name": "stdout",
     "output_type": "stream",
     "text": [
      "<class 'numpy.ndarray'>\n",
      "[0 1 2 3 4]\n",
      "[1 2 3 4 5]\n"
     ]
    }
   ],
   "source": [
    "example_array = np.array([0,1,2,3,4])\n",
    "print(type(example_array))\n",
    "print(example_array)\n",
    "print(example_array + 1)"
   ]
  },
  {
   "cell_type": "markdown",
   "metadata": {},
   "source": [
    "The operation is applied to each element of the array."
   ]
  },
  {
   "cell_type": "markdown",
   "metadata": {},
   "source": [
    "Numpy is also useful for a lot of simple math functions and constants:"
   ]
  },
  {
   "cell_type": "code",
   "execution_count": 10,
   "metadata": {},
   "outputs": [
    {
     "name": "stdout",
     "output_type": "stream",
     "text": [
      "1.0\n"
     ]
    }
   ],
   "source": [
    "print(np.sin(np.pi/2.))"
   ]
  },
  {
   "cell_type": "markdown",
   "metadata": {},
   "source": [
    "## Visualizing with Matplotlib\n",
    "\n",
    "Matplotlib is a very powerful plotting tool with many capabilities, which we will hardly scratch the surface of today. Hopefully this workshop will be useful as a jumping off point. \n",
    "Here is a simple example of a few ways you can customize your visualizations, first using what we already know to make some \"data\" to plot. You will see more about plotting 2d arrays in the Slicing section below, but for now we will stick to a simple sinusoid."
   ]
  },
  {
   "cell_type": "code",
   "execution_count": 11,
   "metadata": {},
   "outputs": [
    {
     "data": {
      "text/plain": [
       "[<matplotlib.lines.Line2D at 0x7effe04bb410>]"
      ]
     },
     "execution_count": 11,
     "metadata": {},
     "output_type": "execute_result"
    },
    {
     "data": {
      "image/png": "[encoded data removed]",
      "text/plain": [
       "<Figure size 640x480 with 1 Axes>"
      ]
     },
     "metadata": {},
     "output_type": "display_data"
    }
   ],
   "source": [
    "x_data = np.arange(0,4*np.pi,0.1)\n",
    "y_data = np.sin(x_data)\n",
    "\n",
    "# at the most bare-bones, you will need an x and a y array that are the same length.\n",
    "plt.plot(x_data, y_data)"
   ]
  },
  {
   "cell_type": "code",
   "execution_count": 12,
   "metadata": {},
   "outputs": [
    {
     "data": {
      "image/png": "[encoded data removed]",
      "text/plain": [
       "<Figure size 600x600 with 1 Axes>"
      ]
     },
     "metadata": {},
     "output_type": "display_data"
    }
   ],
   "source": [
    "# That looks a little boring, and we may also want to initialize our plot as an object with a name,\n",
    "# incase we need to save it. In doing so, we can customize it more.\n",
    "\n",
    "fig = plt.figure(figsize=(6, 6)) #initialize and set the size of the figure.\n",
    "\n",
    "#customize the attributes of the plot, and set a label incase we want a legend.\n",
    "plt.plot(x_data, y_data, linestyle='none', marker='o', markersize=3, color='b', label='sin')\n",
    "\n",
    "#add another line with different attributes\n",
    "plt.plot(x_data, np.cos(x_data), linestyle='--', linewidth=3, color='r', label='cos')\n",
    "\n",
    "#create axis labels, using latex formatting for special characters\n",
    "plt.xlabel(r'$\\alpha$', fontsize=16)\n",
    "plt.ylabel(r'$\\beta$', fontsize=16)\n",
    "\n",
    "#create a title\n",
    "plt.title('example plot', fontsize=20, style='oblique')\n",
    "\n",
    "#create a legend, and specify where to show it in the plot.\n",
    "plt.legend(loc='lower left', frameon=True) #'loc' moves the legend around, frameon puts a box around the legend\n",
    "\n",
    "#save your plot to your working directory\n",
    "fig.savefig('example_plot.jpg')\n",
    "\n",
    "plt.show()"
   ]
  },
  {
   "cell_type": "markdown",
   "metadata": {},
   "source": [
    "## Conditions\n",
    "\n",
    "You can locate parts of your array which meet certain conditions using the `np.where` function. Here is a simple example:"
   ]
  },
  {
   "cell_type": "code",
   "execution_count": 13,
   "metadata": {},
   "outputs": [
    {
     "name": "stdout",
     "output_type": "stream",
     "text": [
      "(array([ 0,  1,  2,  3,  4,  5,  6,  7,  8,  9, 10, 11, 12, 13, 14, 15, 16,\n",
      "       17, 18, 19, 20, 21, 22, 23, 24, 25, 26, 27, 28, 29, 30, 31, 63, 64,\n",
      "       65, 66, 67, 68, 69, 70, 71, 72, 73, 74, 75, 76, 77, 78, 79, 80, 81,\n",
      "       82, 83, 84, 85, 86, 87, 88, 89, 90, 91, 92, 93, 94]),)\n",
      "[0.         0.09983342 0.19866933 0.29552021 0.38941834 0.47942554\n",
      " 0.56464247 0.64421769 0.71735609 0.78332691 0.84147098 0.89120736\n",
      " 0.93203909 0.96355819 0.98544973 0.99749499 0.9995736  0.99166481\n",
      " 0.97384763 0.94630009 0.90929743 0.86320937 0.8084964  0.74570521\n",
      " 0.67546318 0.59847214 0.51550137 0.42737988 0.33498815 0.23924933\n",
      " 0.14112001 0.04158066 0.0168139  0.1165492  0.21511999 0.31154136\n",
      " 0.40484992 0.49411335 0.57843976 0.6569866  0.72896904 0.79366786\n",
      " 0.85043662 0.8987081  0.93799998 0.96791967 0.98816823 0.99854335\n",
      " 0.99894134 0.98935825 0.96988981 0.94073056 0.90217183 0.85459891\n",
      " 0.79848711 0.7343971  0.66296923 0.58491719 0.50102086 0.41211849\n",
      " 0.31909836 0.22288991 0.12445442 0.02477543]\n"
     ]
    },
    {
     "data": {
      "text/plain": [
       "[<matplotlib.lines.Line2D at 0x7effe0406d50>]"
      ]
     },
     "execution_count": 13,
     "metadata": {},
     "output_type": "execute_result"
    },
    {
     "data": {
      "image/png": "[encoded data removed]",
      "text/plain": [
       "<Figure size 640x480 with 1 Axes>"
      ]
     },
     "metadata": {},
     "output_type": "display_data"
    }
   ],
   "source": [
    "#locate the indices at which your array \"y_data\" are positive.\n",
    "where_pos = np.where(y_data >= 0)\n",
    "print(where_pos)\n",
    "\n",
    "#to print just the values of y_data which meet the condition, use this syntax:\n",
    "y_data_pos = y_data[where_pos]\n",
    "print(y_data_pos)\n",
    "\n",
    "#if you want to plot just the positive values, you will have to capture those same indices of your x vector:\n",
    "x_data_pos = x_data[where_pos]\n",
    "\n",
    "#visualize\n",
    "plt.plot(x_data_pos, y_data_pos, linestyle='none', marker='o', markersize=3, color='b', label='sin')"
   ]
  },
  {
   "cell_type": "markdown",
   "metadata": {},
   "source": [
    "## ... back to visualizing\n",
    "\n",
    "`np.where` is a valuable function for isolating certain parts of your data. However, if all you want to do is 'zoom in' on a certain part of your plotted data, that can be done without manipulating the data arrays themselves."
   ]
  },
  {
   "cell_type": "code",
   "execution_count": 14,
   "metadata": {},
   "outputs": [
    {
     "data": {
      "image/png": "[encoded data removed]",
      "text/plain": [
       "<Figure size 600x600 with 1 Axes>"
      ]
     },
     "metadata": {},
     "output_type": "display_data"
    }
   ],
   "source": [
    "fig = plt.figure(figsize=(6, 6)) #initialize and set the size of the figure.\n",
    "\n",
    "plt.plot(x_data, y_data, linestyle='none', marker='o', markersize=3, color='b', label='sin')\n",
    "\n",
    "plt.xlabel(r'$\\alpha$', fontsize=16)\n",
    "plt.ylabel(r'$\\beta$', fontsize=16)\n",
    "\n",
    "plt.title('example plot', fontsize=20, style='oblique')\n",
    "\n",
    "plt.legend(loc='lower left', frameon=True)\n",
    "\n",
    "#specify the limits of the displayed axes\n",
    "plt.xlim([0, np.pi])\n",
    "plt.ylim([-0.2,1.2])\n",
    "\n",
    "plt.show()"
   ]
  },
  {
   "cell_type": "markdown",
   "metadata": {},
   "source": [
    "If you want to establish a consistent \"visual style\" within a notebook, there are ways to change the default styles used by matplotlib, so that you don't have to make the changes within each cell. We won't have time during this workshop, but I encourage you to explore this more: https://matplotlib.org/3.5.0/tutorials/introductory/customizing.html"
   ]
  },
  {
   "cell_type": "markdown",
   "metadata": {
    "id": "x9GTFgr81kNJ"
   },
   "source": [
    "## Modifying and Displaying Array \"Slices\"\n",
    "\n",
    "Sometimes, you only want to deal with a certain part of an array. Perhaps it's an image of a field of stars, and you want to make a new array that only contains one of the stars.\n",
    "\n",
    "Let's start by creating some empty space."
   ]
  },
  {
   "cell_type": "code",
   "execution_count": 15,
   "metadata": {
    "colab": {
     "base_uri": "https://localhost:8080/"
    },
    "id": "Bg6WfDhP2Xo8",
    "outputId": "8110ebc1-2942-4753-b22c-bad496da41fc"
   },
   "outputs": [
    {
     "name": "stdout",
     "output_type": "stream",
     "text": [
      "[[0. 0. 0. 0. 0. 0. 0. 0. 0. 0. 0. 0. 0. 0. 0. 0. 0. 0. 0. 0.]\n",
      " [0. 0. 0. 0. 0. 0. 0. 0. 0. 0. 0. 0. 0. 0. 0. 0. 0. 0. 0. 0.]\n",
      " [0. 0. 0. 0. 0. 0. 0. 0. 0. 0. 0. 0. 0. 0. 0. 0. 0. 0. 0. 0.]\n",
      " [0. 0. 0. 0. 0. 0. 0. 0. 0. 0. 0. 0. 0. 0. 0. 0. 0. 0. 0. 0.]\n",
      " [0. 0. 0. 0. 0. 0. 0. 0. 0. 0. 0. 0. 0. 0. 0. 0. 0. 0. 0. 0.]\n",
      " [0. 0. 0. 0. 0. 0. 0. 0. 0. 0. 0. 0. 0. 0. 0. 0. 0. 0. 0. 0.]\n",
      " [0. 0. 0. 0. 0. 0. 0. 0. 0. 0. 0. 0. 0. 0. 0. 0. 0. 0. 0. 0.]\n",
      " [0. 0. 0. 0. 0. 0. 0. 0. 0. 0. 0. 0. 0. 0. 0. 0. 0. 0. 0. 0.]\n",
      " [0. 0. 0. 0. 0. 0. 0. 0. 0. 0. 0. 0. 0. 0. 0. 0. 0. 0. 0. 0.]\n",
      " [0. 0. 0. 0. 0. 0. 0. 0. 0. 0. 0. 0. 0. 0. 0. 0. 0. 0. 0. 0.]\n",
      " [0. 0. 0. 0. 0. 0. 0. 0. 0. 0. 0. 0. 0. 0. 0. 0. 0. 0. 0. 0.]\n",
      " [0. 0. 0. 0. 0. 0. 0. 0. 0. 0. 0. 0. 0. 0. 0. 0. 0. 0. 0. 0.]\n",
      " [0. 0. 0. 0. 0. 0. 0. 0. 0. 0. 0. 0. 0. 0. 0. 0. 0. 0. 0. 0.]\n",
      " [0. 0. 0. 0. 0. 0. 0. 0. 0. 0. 0. 0. 0. 0. 0. 0. 0. 0. 0. 0.]\n",
      " [0. 0. 0. 0. 0. 0. 0. 0. 0. 0. 0. 0. 0. 0. 0. 0. 0. 0. 0. 0.]\n",
      " [0. 0. 0. 0. 0. 0. 0. 0. 0. 0. 0. 0. 0. 0. 0. 0. 0. 0. 0. 0.]\n",
      " [0. 0. 0. 0. 0. 0. 0. 0. 0. 0. 0. 0. 0. 0. 0. 0. 0. 0. 0. 0.]\n",
      " [0. 0. 0. 0. 0. 0. 0. 0. 0. 0. 0. 0. 0. 0. 0. 0. 0. 0. 0. 0.]\n",
      " [0. 0. 0. 0. 0. 0. 0. 0. 0. 0. 0. 0. 0. 0. 0. 0. 0. 0. 0. 0.]\n",
      " [0. 0. 0. 0. 0. 0. 0. 0. 0. 0. 0. 0. 0. 0. 0. 0. 0. 0. 0. 0.]]\n"
     ]
    }
   ],
   "source": [
    "# np.zeros creates an array of zeros of a specified shape\n",
    "# it's a great tool for allocating a blank sheet of memory to play with!\n",
    "canvas = np.zeros((20,20))\n",
    "print(canvas)"
   ]
  },
  {
   "cell_type": "code",
   "execution_count": 16,
   "metadata": {
    "colab": {
     "base_uri": "https://localhost:8080/",
     "height": 449
    },
    "id": "pIxP7MjP5It8",
    "outputId": "c71e9344-f283-486e-884f-26a7cc12ce9e"
   },
   "outputs": [
    {
     "data": {
      "text/plain": [
       "<matplotlib.image.AxesImage at 0x7effd8183190>"
      ]
     },
     "execution_count": 16,
     "metadata": {},
     "output_type": "execute_result"
    },
    {
     "data": {
      "image/png": "[encoded data removed]",
      "text/plain": [
       "<Figure size 640x480 with 1 Axes>"
      ]
     },
     "metadata": {},
     "output_type": "display_data"
    }
   ],
   "source": [
    "# We can also plot it as an image\n",
    "plt.imshow(canvas)"
   ]
  },
  {
   "cell_type": "code",
   "execution_count": 17,
   "metadata": {
    "colab": {
     "base_uri": "https://localhost:8080/",
     "height": 449
    },
    "id": "2PGL-Z9Q6Ztu",
    "outputId": "1843e9ec-fb29-44c5-d193-5212fa2f2a2e"
   },
   "outputs": [
    {
     "data": {
      "text/plain": [
       "<matplotlib.image.AxesImage at 0x7effd81c3190>"
      ]
     },
     "execution_count": 17,
     "metadata": {},
     "output_type": "execute_result"
    },
    {
     "data": {
      "image/png": "[encoded data removed]",
      "text/plain": [
       "<Figure size 640x480 with 1 Axes>"
      ]
     },
     "metadata": {},
     "output_type": "display_data"
    }
   ],
   "source": [
    "# Now we can change specific pixel values like this\n",
    "canvas[15][5] = 10\n",
    "\n",
    "plt.imshow(canvas)"
   ]
  },
  {
   "cell_type": "markdown",
   "metadata": {
    "id": "KAgjD3GX-672"
   },
   "source": [
    "The first number is the y-coordinate, and the second is x!\n",
    "\n",
    "The origin is in the upper left!\n",
    "\n",
    "This is because a 2D array is a vertical array of of horizontal 1D arrays. The first number selects which index of the parent array of arrays you want to edit, and the second selects the index of that array.\n",
    "\n",
    "You can see this easily when you look at the printed output\n"
   ]
  },
  {
   "cell_type": "code",
   "execution_count": 18,
   "metadata": {},
   "outputs": [
    {
     "name": "stdout",
     "output_type": "stream",
     "text": [
      "[[ 0.  0.  0.  0.  0.  0.  0.  0.  0.  0.  0.  0.  0.  0.  0.  0.  0.  0.\n",
      "   0.  0.]\n",
      " [ 0.  0.  0.  0.  0.  0.  0.  0.  0.  0.  0.  0.  0.  0.  0.  0.  0.  0.\n",
      "   0.  0.]\n",
      " [ 0.  0.  0.  0.  0.  0.  0.  0.  0.  0.  0.  0.  0.  0.  0.  0.  0.  0.\n",
      "   0.  0.]\n",
      " [ 0.  0.  0.  0.  0.  0.  0.  0.  0.  0.  0.  0.  0.  0.  0.  0.  0.  0.\n",
      "   0.  0.]\n",
      " [ 0.  0.  0.  0.  0.  0.  0.  0.  0.  0.  0.  0.  0.  0.  0.  0.  0.  0.\n",
      "   0.  0.]\n",
      " [ 0.  0.  0.  0.  0.  0.  0.  0.  0.  0.  0.  0.  0.  0.  0.  0.  0.  0.\n",
      "   0.  0.]\n",
      " [ 0.  0.  0.  0.  0.  0.  0.  0.  0.  0.  0.  0.  0.  0.  0.  0.  0.  0.\n",
      "   0.  0.]\n",
      " [ 0.  0.  0.  0.  0.  0.  0.  0.  0.  0.  0.  0.  0.  0.  0.  0.  0.  0.\n",
      "   0.  0.]\n",
      " [ 0.  0.  0.  0.  0.  0.  0.  0.  0.  0.  0.  0.  0.  0.  0.  0.  0.  0.\n",
      "   0.  0.]\n",
      " [ 0.  0.  0.  0.  0.  0.  0.  0.  0.  0.  0.  0.  0.  0.  0.  0.  0.  0.\n",
      "   0.  0.]\n",
      " [ 0.  0.  0.  0.  0.  0.  0.  0.  0.  0.  0.  0.  0.  0.  0.  0.  0.  0.\n",
      "   0.  0.]\n",
      " [ 0.  0.  0.  0.  0.  0.  0.  0.  0.  0.  0.  0.  0.  0.  0.  0.  0.  0.\n",
      "   0.  0.]\n",
      " [ 0.  0.  0.  0.  0.  0.  0.  0.  0.  0.  0.  0.  0.  0.  0.  0.  0.  0.\n",
      "   0.  0.]\n",
      " [ 0.  0.  0.  0.  0.  0.  0.  0.  0.  0.  0.  0.  0.  0.  0.  0.  0.  0.\n",
      "   0.  0.]\n",
      " [ 0.  0.  0.  0.  0.  0.  0.  0.  0.  0.  0.  0.  0.  0.  0.  0.  0.  0.\n",
      "   0.  0.]\n",
      " [ 0.  0.  0.  0.  0. 10.  0.  0.  0.  0.  0.  0.  0.  0.  0.  0.  0.  0.\n",
      "   0.  0.]\n",
      " [ 0.  0.  0.  0.  0.  0.  0.  0.  0.  0.  0.  0.  0.  0.  0.  0.  0.  0.\n",
      "   0.  0.]\n",
      " [ 0.  0.  0.  0.  0.  0.  0.  0.  0.  0.  0.  0.  0.  0.  0.  0.  0.  0.\n",
      "   0.  0.]\n",
      " [ 0.  0.  0.  0.  0.  0.  0.  0.  0.  0.  0.  0.  0.  0.  0.  0.  0.  0.\n",
      "   0.  0.]\n",
      " [ 0.  0.  0.  0.  0.  0.  0.  0.  0.  0.  0.  0.  0.  0.  0.  0.  0.  0.\n",
      "   0.  0.]]\n"
     ]
    }
   ],
   "source": [
    "print(canvas)"
   ]
  },
  {
   "cell_type": "markdown",
   "metadata": {},
   "source": [
    "Next, let's try modifying values, instead of just setting them."
   ]
  },
  {
   "cell_type": "code",
   "execution_count": 19,
   "metadata": {
    "colab": {
     "base_uri": "https://localhost:8080/",
     "height": 454
    },
    "id": "HNHS0pWP_X1I",
    "outputId": "0821c673-b5bb-468b-db57-09ef717cf032"
   },
   "outputs": [
    {
     "data": {
      "text/plain": [
       "<matplotlib.colorbar.Colorbar at 0x7effd8001d90>"
      ]
     },
     "execution_count": 19,
     "metadata": {},
     "output_type": "execute_result"
    },
    {
     "data": {
      "image/png": "[encoded data removed]",
      "text/plain": [
       "<Figure size 640x480 with 2 Axes>"
      ]
     },
     "metadata": {},
     "output_type": "display_data"
    }
   ],
   "source": [
    "# adjacent square brackets can be combined with a comma\n",
    "# ranges of values can be specified with a colon\n",
    "# operations can be done efficiently using \"python assignment operators\"\n",
    "# in this case, '-=' subtracts 6 from the slice canvas[3:7,13:17], and assigns the result to canvas.\n",
    "canvas[3:7,13:17] -= 6\n",
    "# This is a \"slice\" of an array!\n",
    "\n",
    "plt.imshow(canvas)\n",
    "# and let's add a colorbar as things get busy\n",
    "plt.colorbar()"
   ]
  },
  {
   "cell_type": "markdown",
   "metadata": {
    "id": "W8MKouC6Cbrh"
   },
   "source": [
    "We have modified a subset, or \"slice\" of the array.\n",
    "\n",
    "The notation used (commas and colons) is called \"slicing\" an array. An array \"slice\" is NOT its own object. It is a pointer to the specified addresses. This persists even if the slice is given its own variable."
   ]
  },
  {
   "cell_type": "markdown",
   "metadata": {
    "id": "BinQ42ua83El"
   },
   "source": [
    "### NOTE\n",
    "\n",
    "Mathematically, subtracting a number from an array makes intuitive sense, but on a computer science level this is a little odd.\n",
    "\n",
    "These operations add together two very different objects. One is two dimensional, the other is zero dimensional. Python accomplishes this by *broadcasting*. It takes a lower-dimensional object and copies it along each new axis until it is the same size as the higher-dimensional object. We'll talk more about this later. For now, I'll drop a link to the manual about how this happens: https://numpy.org/doc/stable/user/basics.broadcasting.html"
   ]
  },
  {
   "cell_type": "code",
   "execution_count": 20,
   "metadata": {
    "colab": {
     "base_uri": "https://localhost:8080/",
     "height": 449
    },
    "id": "hkae65b4DEwT",
    "outputId": "dc1e307e-bc8b-4b8f-9b0b-92b9c514d71a"
   },
   "outputs": [
    {
     "data": {
      "text/plain": [
       "<matplotlib.colorbar.Colorbar at 0x7effd7f55a50>"
      ]
     },
     "execution_count": 20,
     "metadata": {},
     "output_type": "execute_result"
    },
    {
     "data": {
      "image/png": "[encoded data removed]",
      "text/plain": [
       "<Figure size 640x480 with 2 Axes>"
      ]
     },
     "metadata": {},
     "output_type": "display_data"
    }
   ],
   "source": [
    "# Let's make a variable that's a slice of our canvas\n",
    "subcanvas = canvas[12:17,3:8]\n",
    "\n",
    "plt.imshow(subcanvas)\n",
    "plt.colorbar()\n",
    "# note the change in axes. we are now only looking at the 'subcanvas' slice of 'canvas'."
   ]
  },
  {
   "cell_type": "code",
   "execution_count": 21,
   "metadata": {
    "colab": {
     "base_uri": "https://localhost:8080/",
     "height": 449
    },
    "id": "mB18nbBjDpYN",
    "outputId": "39dd53f8-8bd5-4b6b-8272-0e5c7d226aa2"
   },
   "outputs": [
    {
     "data": {
      "text/plain": [
       "<matplotlib.colorbar.Colorbar at 0x7effe0419cd0>"
      ]
     },
     "execution_count": 21,
     "metadata": {},
     "output_type": "execute_result"
    },
    {
     "data": {
      "image/png": "[encoded data removed]",
      "text/plain": [
       "<Figure size 640x480 with 2 Axes>"
      ]
     },
     "metadata": {},
     "output_type": "display_data"
    }
   ],
   "source": [
    "# Now, let's change the value, and see what happens\n",
    "subcanvas -= 999\n",
    "\n",
    "plt.imshow(subcanvas)\n",
    "plt.colorbar()"
   ]
  },
  {
   "cell_type": "code",
   "execution_count": 22,
   "metadata": {
    "colab": {
     "base_uri": "https://localhost:8080/",
     "height": 454
    },
    "id": "iRqM4tK4ECbP",
    "outputId": "542f143e-e77b-4faf-a09d-e4d152b0b4f2"
   },
   "outputs": [
    {
     "data": {
      "text/plain": [
       "<matplotlib.colorbar.Colorbar at 0x7effe05a1d90>"
      ]
     },
     "execution_count": 22,
     "metadata": {},
     "output_type": "execute_result"
    },
    {
     "data": {
      "image/png": "[encoded data removed]",
      "text/plain": [
       "<Figure size 640x480 with 2 Axes>"
      ]
     },
     "metadata": {},
     "output_type": "display_data"
    }
   ],
   "source": [
    "# But wait, that changed the main canvas too!\n",
    "\n",
    "plt.imshow(canvas)\n",
    "plt.colorbar()"
   ]
  },
  {
   "cell_type": "markdown",
   "metadata": {
    "id": "24dOrAj8EiN7"
   },
   "source": [
    "To reiterate, a slice is NOT its own object, it is a collection of pointers to values in the parent.  If you want to make a slice that you can edit freely without modifying the original data, make a copy!"
   ]
  },
  {
   "cell_type": "code",
   "execution_count": 23,
   "metadata": {
    "id": "zyaW5WgWE2Kp"
   },
   "outputs": [],
   "source": [
    "# Making a copy using numpy ndarray's built-in copy method (specific to this object)\n",
    "subcanvas = canvas[12:17,3:8].copy()\n",
    "# Making a copy using numpy's general copy function (can find a way to copy most objects)\n",
    "subcanvas = np.copy(canvas[12:17,3:8])"
   ]
  },
  {
   "cell_type": "markdown",
   "metadata": {
    "id": "TBgsaV5EFiKM"
   },
   "source": [
    "# For loops and performance\n",
    "\n",
    "Python is slow, especially when looping through large datasets, and especially especially when doing nested loops through big arrays. C is faster than python, [about two orders of magnitude faster by some metrics](https://github.com/niklas-heer/speed-comparison). Numpy functions are written in C. Any time you can offload a for loop into a numpy function (usually a broadcast), you can greatly speed up your code."
   ]
  },
  {
   "cell_type": "code",
   "execution_count": 24,
   "metadata": {
    "id": "zt06McR3Fpjq"
   },
   "outputs": [],
   "source": [
    "# not really all that big, but big enough to see the effect\n",
    "bigarray = np.ones((1000,1000))\n",
    "import time"
   ]
  },
  {
   "cell_type": "code",
   "execution_count": 25,
   "metadata": {
    "colab": {
     "base_uri": "https://localhost:8080/"
    },
    "id": "vuowZ68xFtbA",
    "outputId": "e52675fa-ccbb-4492-9a1b-750539157497"
   },
   "outputs": [
    {
     "name": "stdout",
     "output_type": "stream",
     "text": [
      "for loops time: 0.726813554763794\n"
     ]
    }
   ],
   "source": [
    "start = time.time()\n",
    "for i in range(len(bigarray)):\n",
    "    for j in range(len(bigarray[0])):\n",
    "        bigarray[i][j] + bigarray[j][i]\n",
    "\n",
    "print(\"for loops time: \" + str(time.time()-start))\n",
    "# On my computer this took 0.643669843673706 seconds"
   ]
  },
  {
   "cell_type": "code",
   "execution_count": 26,
   "metadata": {
    "colab": {
     "base_uri": "https://localhost:8080/"
    },
    "id": "axEmrAi4FuDt",
    "outputId": "605f3e27-f3c6-4dd2-d83f-bf689056fe2e"
   },
   "outputs": [
    {
     "name": "stdout",
     "output_type": "stream",
     "text": [
      "with array transformation in C: 0.004999399185180664\n"
     ]
    }
   ],
   "source": [
    "start = time.time()\n",
    "bigarray + bigarray.transpose()\n",
    "print(\"with array transformation in C: \" + str(time.time()-start))\n",
    "# On my computer this took 0.005024433135986328 seconds"
   ]
  },
  {
   "cell_type": "markdown",
   "metadata": {
    "id": "nJVr9-7uF3dr"
   },
   "source": [
    "You can easily see how this can really start to add up if you are doing more complex operations within the for loop, and/or operating on datasets that are actually really big.\n",
    "\n",
    "If your code is having performance problems, or if you just want to avoid them, a good rule of thumb is to offload as many for loops into C as possible. Sometimes this involves getting creative with array transformations and mathematical relationships.\n",
    "\n",
    "If you are having performance issues and aren't sure how to remove some of your for loops, this manual is your best friend: https://numpy.org/doc/stable/user/basics.broadcasting.html"
   ]
  },
  {
   "cell_type": "markdown",
   "metadata": {},
   "source": [
    "### Functions\n",
    "Functions are an essential part of Python.\n",
    "The proper use of functions can save a lot of time when repeating the same tasts."
   ]
  },
  {
   "cell_type": "code",
   "execution_count": 27,
   "metadata": {},
   "outputs": [],
   "source": [
    "'''Below is a generic function\n",
    "\n",
    "def tells python that what follows is a function\n",
    "next is the function name, \"function\" in this case\n",
    "finally, the arguments go in the parenthesis\n",
    "'''\n",
    "\n",
    "def function(arg1, arg2):\n",
    "    '''This is a docstring\n",
    "    \n",
    "    it is good practice to include docstrings \n",
    "    at the start of defined functions\n",
    "    to explain what the function is doing.\n",
    "    This function just prints out the two input arguments\n",
    "    '''\n",
    "    \n",
    "    print(f'this is arg1: {arg1}') # using f'some text {variable}' puts the variable directly into string format\n",
    "    print(f'this is arg2: {arg2}') # look up f-string for more advanced use cases"
   ]
  },
  {
   "cell_type": "markdown",
   "metadata": {},
   "source": [
    "Let's test this function out!"
   ]
  },
  {
   "cell_type": "code",
   "execution_count": 28,
   "metadata": {},
   "outputs": [
    {
     "name": "stdout",
     "output_type": "stream",
     "text": [
      "this is arg1: 1\n",
      "this is arg2: hello world\n"
     ]
    }
   ],
   "source": [
    "function(1, 'hello world')"
   ]
  },
  {
   "cell_type": "markdown",
   "metadata": {},
   "source": [
    "As expected, the function printed out the two input arguments using f-strings\n",
    "\n",
    "Let's try a more complicated function\n"
   ]
  },
  {
   "cell_type": "code",
   "execution_count": 30,
   "metadata": {},
   "outputs": [],
   "source": [
    "def circle_area(radius:float)->float:\n",
    "    '''Equation for the area of a circle\n",
    "    \n",
    "    radius is the circle radius'''\n",
    "    return 3.14159 * radius**2"
   ]
  },
  {
   "cell_type": "markdown",
   "metadata": {},
   "source": [
    "What a minute! What is all that new stuff in the function?\n",
    "\n",
    "Using :type in the arguments section of a function gives an indication of what type the input should be.\n",
    "\n",
    "This can help combat the issue of type errors.\n",
    "\n",
    "The ->type gives an indication of the output of the function.\n",
    "\n",
    "This ensures that if you use the output elsewhere it will be the type you want."
   ]
  },
  {
   "cell_type": "code",
   "execution_count": 31,
   "metadata": {},
   "outputs": [
    {
     "name": "stdout",
     "output_type": "stream",
     "text": [
      "3.14159\n",
      "78.53975\n"
     ]
    }
   ],
   "source": [
    "# we can set variables equal to the output of a function\n",
    "\n",
    "area_1 = circle_area(1)\n",
    "area_5 = circle_area(5)\n",
    "\n",
    "print(area_1)\n",
    "print(area_5)"
   ]
  },
  {
   "cell_type": "code",
   "execution_count": 32,
   "metadata": {},
   "outputs": [
    {
     "name": "stdout",
     "output_type": "stream",
     "text": [
      "this is arg1: 1\n",
      "this is arg2: 2\n",
      "<class 'NoneType'>\n",
      "<class 'float'>\n"
     ]
    }
   ],
   "source": [
    "# if the function does not return anything then the variable takes the None type\n",
    "\n",
    "func_1 = function(1,2)\n",
    "\n",
    "print(type(func_1))\n",
    "print(type(area_1))"
   ]
  },
  {
   "cell_type": "markdown",
   "metadata": {},
   "source": [
    "Functions should be used anywhere code is being repeated.\n",
    "\n",
    "This cleans up your workplace from being cluttered with repeat code.\n",
    "\n",
    "It also ensures that if you want to change your code, you only have to do it once."
   ]
  },
  {
   "cell_type": "markdown",
   "metadata": {},
   "source": [
    "### Classes\n",
    "\n",
    "Many things you are used to working with in Python are classes. This is because classes are extremely powerful.\n",
    "\n",
    "Objects in Python are formed from classes and save unique information about that object."
   ]
  },
  {
   "cell_type": "code",
   "execution_count": 33,
   "metadata": {},
   "outputs": [],
   "source": [
    "'''Below is a generic class\n",
    "\n",
    "class tells python that what follows is a class\n",
    "next is the class name, \"Class\" in this case\n",
    "it is common practice for class names to be capitalized\n",
    "'''\n",
    "\n",
    "class Class:\n",
    "    PI = 3.1415 # we can set class values here"
   ]
  },
  {
   "cell_type": "code",
   "execution_count": 34,
   "metadata": {},
   "outputs": [
    {
     "name": "stdout",
     "output_type": "stream",
     "text": [
      "<class '__main__.Class'>\n"
     ]
    }
   ],
   "source": [
    "# let's make a single class instance\n",
    "class_instance_one = Class()\n",
    "# see that the instance type is that of the class\n",
    "print(type(class_instance_one))"
   ]
  },
  {
   "cell_type": "code",
   "execution_count": 35,
   "metadata": {},
   "outputs": [
    {
     "data": {
      "text/plain": [
       "3.1415"
      ]
     },
     "execution_count": 35,
     "metadata": {},
     "output_type": "execute_result"
    }
   ],
   "source": [
    "# the class value is kept for all instances\n",
    "class_instance_one.PI"
   ]
  },
  {
   "cell_type": "markdown",
   "metadata": {},
   "source": [
    "The main power of classes comes from each instance being customizeable"
   ]
  },
  {
   "cell_type": "code",
   "execution_count": 36,
   "metadata": {},
   "outputs": [],
   "source": [
    "class Custom:\n",
    "    '''Example class to show instance\n",
    "    \n",
    "    __init__ initializes an instance of a class\n",
    "    self refers to this instance of the class\n",
    "    argument is the input that makes this instance unique\n",
    "    self.argument is known as an instance variable\n",
    "    '''\n",
    "    def __init__(self, argument):\n",
    "        self.arg = argument"
   ]
  },
  {
   "cell_type": "code",
   "execution_count": 37,
   "metadata": {},
   "outputs": [],
   "source": [
    "# here we make a custom object with is an instance of the Custom class\n",
    "custom = Custom(0)"
   ]
  },
  {
   "cell_type": "code",
   "execution_count": 38,
   "metadata": {},
   "outputs": [
    {
     "name": "stdout",
     "output_type": "stream",
     "text": [
      "0\n"
     ]
    }
   ],
   "source": [
    "# custom is now whatt self was in the class definition\n",
    "# custom.arg saves the original input\n",
    "print(custom.arg)"
   ]
  },
  {
   "cell_type": "code",
   "execution_count": 39,
   "metadata": {},
   "outputs": [],
   "source": [
    "class Complex(Custom):\n",
    "    '''Example class to show inheritance and methods\n",
    "    \n",
    "    putting Custom in Complex allows Complex access to the Custom __init__\n",
    "    a method is a function defined within a class\n",
    "    you call is as class_instance.method()\n",
    "    '''\n",
    "    def print_out(self):\n",
    "        '''Method for printing out the instance argument\n",
    "        \n",
    "        self refers to the instance of the Complex class\n",
    "        without self the function cannot access the '''\n",
    "        print(f'argument is: {self.arg}')"
   ]
  },
  {
   "cell_type": "code",
   "execution_count": 40,
   "metadata": {},
   "outputs": [],
   "source": [
    "complex = Complex(0)"
   ]
  },
  {
   "cell_type": "code",
   "execution_count": 41,
   "metadata": {},
   "outputs": [
    {
     "name": "stdout",
     "output_type": "stream",
     "text": [
      "argument is: 0\n"
     ]
    }
   ],
   "source": [
    "complex.print_out()"
   ]
  },
  {
   "cell_type": "code",
   "execution_count": 42,
   "metadata": {},
   "outputs": [],
   "source": [
    "class Circle:\n",
    "    PI = 3.14159\n",
    "    def __init__(self, radius:float): # note, no ->type here because nothing is being returned\n",
    "        '''Class that represents a circle\n",
    "        \n",
    "        radius is the radius of the circle instance'''\n",
    "        self.radius = radius\n",
    "    \n",
    "    def area(self)->float: # ->float here because the method returns a float\n",
    "        '''Calculate the area of the circle'''\n",
    "        return self.PI * self.radius**2"
   ]
  },
  {
   "cell_type": "code",
   "execution_count": 43,
   "metadata": {},
   "outputs": [],
   "source": [
    "circle_1 = Circle(1)\n",
    "circle_5 = Circle(5)"
   ]
  },
  {
   "cell_type": "code",
   "execution_count": 44,
   "metadata": {},
   "outputs": [
    {
     "name": "stdout",
     "output_type": "stream",
     "text": [
      "3.14159\n",
      "78.53975\n"
     ]
    }
   ],
   "source": [
    "print(circle_1.area())\n",
    "print(circle_5.area())"
   ]
  },
  {
   "cell_type": "markdown",
   "metadata": {},
   "source": [
    "# Extra: Dictionaries\n",
    "\n",
    "Dictionaries are sets of key-value pairs. They are most commonly found as \"labels\" or \"headers\" describing an image.\n",
    "\n",
    "In python, dictionaries are denoted by curly braces {}."
   ]
  },
  {
   "cell_type": "code",
   "execution_count": 45,
   "metadata": {},
   "outputs": [
    {
     "name": "stdout",
     "output_type": "stream",
     "text": [
      "{'data': array([[[0, 0, 0, 0],\n",
      "        [1, 1, 1, 1],\n",
      "        [2, 2, 2, 2]],\n",
      "\n",
      "       [[0, 1, 2, 3],\n",
      "        [0, 1, 2, 3],\n",
      "        [0, 1, 2, 3]]]), 'name': 'Array of index values for a 3x4 array', 'mean': 1.25}\n"
     ]
    }
   ],
   "source": [
    "# Creating an empty dictionary\n",
    "mydict = {}\n",
    "\n",
    "# adding some key-value pairs\n",
    "mydict[\"data\"]=np.indices((3,4))\n",
    "mydict[\"name\"]=\"Array of index values for a 3x4 array\"\n",
    "mydict[\"mean\"]=np.mean(mydict[\"data\"])\n",
    "\n",
    "print(mydict)"
   ]
  },
  {
   "cell_type": "markdown",
   "metadata": {},
   "source": [
    "Dictionaries are a great way to store metadata, tags, and other identifying information.\n",
    "\n",
    "Often, they contain information about when an observation was taken, the direction the spacecraft was pointed in, the pole vector of the target, the integration time of the image, or anything else that might be useful or important for the data analysis.\n",
    "\n",
    "They pair very well with objects to store information about what is in an object and what has been done to it."
   ]
  },
  {
   "cell_type": "markdown",
   "metadata": {},
   "source": [
    "# Group Project\n",
    "\n",
    "The best way to learn Python is by writing Python code!\n",
    "\n",
    "For the first assignment, go back to the main Jupyter Notebook window in your browser.\n",
    "\n",
    "Click New and then Text File. Name the file my_class.py.\n",
    "\n",
    "In this file write a Sphere class that takes radius as input.\n",
    "\n",
    "Add two methods that compute the surface area and volume, respectively.\n",
    "\n",
    "Make a new Notebook and do \"import my_class.Sphere as Sphere\"\n",
    "\n",
    "Generate multiple instances of the Sphere class with different radii.\n",
    "\n",
    "Print out the radius, surface area, and volume of each sphere."
   ]
  },
  {
   "cell_type": "markdown",
   "metadata": {},
   "source": [
    "# Second Project\n",
    "\n",
    "Make a new file called functions.py.\n",
    "\n",
    "Write a function called make_array that takes in two numpy arrays.\n",
    "\n",
    "The function should return a 2d numpy array for the value of your function at each point along the arrays.\n",
    "\n",
    "You can make the function as complex as you like.\n",
    "\n",
    "Write a second function called make_plot that uses .pcolormesh to plot the 2darray.\n",
    "\n",
    "Import the .py file into a notebook with \"import functions as func\"\n",
    "\n",
    "Define your arrays in the notebook and pass them into the imported func.make_array function\n",
    "\n",
    "Plot the resulting array with funct.make_plot\n",
    "\n",
    "Can you combine both of these functions into the methods of a single class?\n"
   ]
  }
 ],
 "metadata": {
  "colab": {
   "provenance": []
  },
  "kernelspec": {
   "display_name": "Python 3 (ipykernel)",
   "language": "python",
   "name": "python3"
  },
  "language_info": {
   "codemirror_mode": {
    "name": "ipython",
    "version": 3
   },
   "file_extension": ".py",
   "mimetype": "text/x-python",
   "name": "python",
   "nbconvert_exporter": "python",
   "pygments_lexer": "ipython3",
   "version": "3.11.3"
  }
 },
 "nbformat": 4,
 "nbformat_minor": 4
}
