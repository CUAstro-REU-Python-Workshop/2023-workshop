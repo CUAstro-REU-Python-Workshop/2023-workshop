{
  "nbformat": 4,
  "nbformat_minor": 0,
  "metadata": {
    "colab": {
      "provenance": []
    },
    "kernelspec": {
      "name": "python3",
      "display_name": "Python 3"
    },
    "language_info": {
      "name": "python"
    }
  },
  "cells": [
    {
      "cell_type": "markdown",
      "source": [],
      "metadata": {
        "id": "DfrVRKLDGD5R"
      }
    },
    {
      "cell_type": "markdown",
      "source": [
        "it can be useful to import commonly used packages with shortened names:"
      ],
      "metadata": {
        "id": "3UUfuxSthf_j"
      }
    },
    {
      "cell_type": "code",
      "execution_count": null,
      "metadata": {
        "id": "8V2m2_1PgRrP"
      },
      "outputs": [],
      "source": [
        "import numpy as np\n",
        "import matplotlib.pyplot as plt\n",
        "import pandas as pd"
      ]
    },
    {
      "cell_type": "markdown",
      "source": [
        "you can specify what you want from a package when you import it:"
      ],
      "metadata": {
        "id": "pVo7HnIdhnai"
      }
    },
    {
      "cell_type": "code",
      "source": [
        "from math import sqrt\n",
        "print(sqrt(9))"
      ],
      "metadata": {
        "colab": {
          "base_uri": "https://localhost:8080/"
        },
        "id": "nZ7R_qBXhpSE",
        "outputId": "378142d3-67a9-4a97-902d-b6e2f4c8e494"
      },
      "execution_count": null,
      "outputs": [
        {
          "output_type": "stream",
          "name": "stdout",
          "text": [
            "3.0\n"
          ]
        }
      ]
    },
    {
      "cell_type": "markdown",
      "source": [
        "or you can import a package and specify the package each time you use a function from it: "
      ],
      "metadata": {
        "id": "dW2CRWjbiIrn"
      }
    },
    {
      "cell_type": "code",
      "source": [
        "import math\n",
        "print(math.sqrt(9))"
      ],
      "metadata": {
        "colab": {
          "base_uri": "https://localhost:8080/"
        },
        "id": "t1BFK1DAiHvM",
        "outputId": "3adc36b9-c5c0-45a0-d999-f9a21bba0029"
      },
      "execution_count": null,
      "outputs": [
        {
          "output_type": "stream",
          "name": "stdout",
          "text": [
            "3.0\n"
          ]
        }
      ]
    },
    {
      "cell_type": "markdown",
      "source": [],
      "metadata": {
        "id": "YaTsxYh73NSu"
      }
    },
    {
      "cell_type": "markdown",
      "source": [
        "# Working with Arrays\n",
        "From images (values distributed over space) to time series (values distributed over time) to spectra (values distributed over wavelength) to combinations of the above and much more, the Array (sometimes called a Tensor) is the fundamental datatype of most physical programming.\n",
        "\n",
        "Arrays are sets of numbers of a given shape and dimension. The dimension is the number of axes, and the shape is a tuple representing the size of each.\n",
        "\n",
        "Let's make some arrays that we can work with.\n",
        "\n",
        "## Populating Arrays\n",
        "\n",
        "This can be done in a few ways. "
      ],
      "metadata": {
        "id": "zmjfOKhdi0-I"
      }
    },
    {
      "cell_type": "code",
      "source": [
        "#manually defining a 1d array\n",
        "myarray = np.array([1, 2, 3])\n",
        "#manually defining a 2d array \n",
        "my2darray = np.array([[1,2,3],[4,5,6]])\n",
        "\n",
        "#generating numbers between -5 and 5 with spacing 0.001\n",
        "x_data_arange = np.arange(-5, 5, 0.001)\n",
        "\n",
        "#generating 50 numbers evenly spaced between 1-100\n",
        "x_data_linspace = np.linspace(1, 100, 50)"
      ],
      "metadata": {
        "id": "Udd5vnQ9i5FH"
      },
      "execution_count": null,
      "outputs": []
    },
    {
      "cell_type": "markdown",
      "source": [
        "## Modifying and Displaying Array \"Slices\"\n",
        "\n",
        "Sometimes, you only want to deal with a certain part of an array. Perhaps it's an image of a field of stars, and you want to make a new array that only contains one of the stars.\n",
        "\n",
        "Let's start by creating some empty space."
      ],
      "metadata": {
        "id": "x9GTFgr81kNJ"
      }
    },
    {
      "cell_type": "code",
      "source": [
        "# np.zeros creates an array of zeros of a specified shape\n",
        "# it's a great tool for allocating a blank sheet of memory to play with!\n",
        "canvas = np.zeros((20,20))\n",
        "print(canvas)"
      ],
      "metadata": {
        "colab": {
          "base_uri": "https://localhost:8080/"
        },
        "id": "Bg6WfDhP2Xo8",
        "outputId": "8110ebc1-2942-4753-b22c-bad496da41fc"
      },
      "execution_count": null,
      "outputs": [
        {
          "output_type": "stream",
          "name": "stdout",
          "text": [
            "[[0. 0. 0. 0. 0. 0. 0. 0. 0. 0. 0. 0. 0. 0. 0. 0. 0. 0. 0. 0.]\n",
            " [0. 0. 0. 0. 0. 0. 0. 0. 0. 0. 0. 0. 0. 0. 0. 0. 0. 0. 0. 0.]\n",
            " [0. 0. 0. 0. 0. 0. 0. 0. 0. 0. 0. 0. 0. 0. 0. 0. 0. 0. 0. 0.]\n",
            " [0. 0. 0. 0. 0. 0. 0. 0. 0. 0. 0. 0. 0. 0. 0. 0. 0. 0. 0. 0.]\n",
            " [0. 0. 0. 0. 0. 0. 0. 0. 0. 0. 0. 0. 0. 0. 0. 0. 0. 0. 0. 0.]\n",
            " [0. 0. 0. 0. 0. 0. 0. 0. 0. 0. 0. 0. 0. 0. 0. 0. 0. 0. 0. 0.]\n",
            " [0. 0. 0. 0. 0. 0. 0. 0. 0. 0. 0. 0. 0. 0. 0. 0. 0. 0. 0. 0.]\n",
            " [0. 0. 0. 0. 0. 0. 0. 0. 0. 0. 0. 0. 0. 0. 0. 0. 0. 0. 0. 0.]\n",
            " [0. 0. 0. 0. 0. 0. 0. 0. 0. 0. 0. 0. 0. 0. 0. 0. 0. 0. 0. 0.]\n",
            " [0. 0. 0. 0. 0. 0. 0. 0. 0. 0. 0. 0. 0. 0. 0. 0. 0. 0. 0. 0.]\n",
            " [0. 0. 0. 0. 0. 0. 0. 0. 0. 0. 0. 0. 0. 0. 0. 0. 0. 0. 0. 0.]\n",
            " [0. 0. 0. 0. 0. 0. 0. 0. 0. 0. 0. 0. 0. 0. 0. 0. 0. 0. 0. 0.]\n",
            " [0. 0. 0. 0. 0. 0. 0. 0. 0. 0. 0. 0. 0. 0. 0. 0. 0. 0. 0. 0.]\n",
            " [0. 0. 0. 0. 0. 0. 0. 0. 0. 0. 0. 0. 0. 0. 0. 0. 0. 0. 0. 0.]\n",
            " [0. 0. 0. 0. 0. 0. 0. 0. 0. 0. 0. 0. 0. 0. 0. 0. 0. 0. 0. 0.]\n",
            " [0. 0. 0. 0. 0. 0. 0. 0. 0. 0. 0. 0. 0. 0. 0. 0. 0. 0. 0. 0.]\n",
            " [0. 0. 0. 0. 0. 0. 0. 0. 0. 0. 0. 0. 0. 0. 0. 0. 0. 0. 0. 0.]\n",
            " [0. 0. 0. 0. 0. 0. 0. 0. 0. 0. 0. 0. 0. 0. 0. 0. 0. 0. 0. 0.]\n",
            " [0. 0. 0. 0. 0. 0. 0. 0. 0. 0. 0. 0. 0. 0. 0. 0. 0. 0. 0. 0.]\n",
            " [0. 0. 0. 0. 0. 0. 0. 0. 0. 0. 0. 0. 0. 0. 0. 0. 0. 0. 0. 0.]]\n"
          ]
        }
      ]
    },
    {
      "cell_type": "code",
      "source": [
        "# We can also plot it as an image\n",
        "plt.imshow(canvas)"
      ],
      "metadata": {
        "colab": {
          "base_uri": "https://localhost:8080/",
          "height": 449
        },
        "id": "pIxP7MjP5It8",
        "outputId": "c71e9344-f283-486e-884f-26a7cc12ce9e"
      },
      "execution_count": null,
      "outputs": [
        {
          "output_type": "execute_result",
          "data": {
            "text/plain": [
              "<matplotlib.image.AxesImage at 0x7fb489402050>"
            ]
          },
          "metadata": {},
          "execution_count": 48
        },
        {
          "output_type": "display_data",
          "data": {
            "text/plain": [
              "<Figure size 640x480 with 1 Axes>"
            ],
            "image/png": "[encoded data removed]"
          },
          "metadata": {}
        }
      ]
    },
    {
      "cell_type": "code",
      "source": [
        "# Now I can change specific pixel values like this\n",
        "canvas[15][5] = 10\n",
        "\n",
        "plt.imshow(canvas)"
      ],
      "metadata": {
        "colab": {
          "base_uri": "https://localhost:8080/",
          "height": 449
        },
        "id": "2PGL-Z9Q6Ztu",
        "outputId": "1843e9ec-fb29-44c5-d193-5212fa2f2a2e"
      },
      "execution_count": null,
      "outputs": [
        {
          "output_type": "execute_result",
          "data": {
            "text/plain": [
              "<matplotlib.image.AxesImage at 0x7fb48975ee60>"
            ]
          },
          "metadata": {},
          "execution_count": 49
        },
        {
          "output_type": "display_data",
          "data": {
            "text/plain": [
              "<Figure size 640x480 with 1 Axes>"
            ],
            "image/png": "[encoded data removed]"
          },
          "metadata": {}
        }
      ]
    },
    {
      "cell_type": "markdown",
      "source": [
        "The first number is the y-coordinate, and the second is x!\n",
        "\n",
        "The origin is in the upper left!\n",
        "\n",
        "This is because a 2D array is a vertical array of of horizontal 1D arrays. The first number selects which index of the parent array of arrays you want to edit, and the second selects the index of that array.\n",
        "\n",
        "Next, let's try modifying values, instead of just setting them."
      ],
      "metadata": {
        "id": "KAgjD3GX-672"
      }
    },
    {
      "cell_type": "code",
      "source": [
        "# adjacent square brackets can be combined with a comma\n",
        "# ranges of values can be specified with a colon\n",
        "canvas[3:7,13:17] -= 6\n",
        "# This is a \"slice\" of an array!\n",
        "\n",
        "plt.imshow(canvas)\n",
        "# and let's add a colorbar as things get busy\n",
        "plt.colorbar()"
      ],
      "metadata": {
        "colab": {
          "base_uri": "https://localhost:8080/",
          "height": 454
        },
        "id": "HNHS0pWP_X1I",
        "outputId": "0821c673-b5bb-468b-db57-09ef717cf032"
      },
      "execution_count": null,
      "outputs": [
        {
          "output_type": "execute_result",
          "data": {
            "text/plain": [
              "<matplotlib.colorbar.Colorbar at 0x7fb48947dea0>"
            ]
          },
          "metadata": {},
          "execution_count": 50
        },
        {
          "output_type": "display_data",
          "data": {
            "text/plain": [
              "<Figure size 640x480 with 2 Axes>"
            ],
            "image/png": "[encoded data removed]"
          },
          "metadata": {}
        }
      ]
    },
    {
      "cell_type": "markdown",
      "source": [
        "We have modified a subset, or \"slice\" of the array.\n",
        "\n",
        "The notation used (commas and colons) is called \"slicing\" an array. An array \"slice\" is NOT its own object. It is a pointer to the specified addresses. This persists even if the slice is given its own variable."
      ],
      "metadata": {
        "id": "W8MKouC6Cbrh"
      }
    },
    {
      "cell_type": "markdown",
      "source": [
        "### NOTE\n",
        "\n",
        "Mathematically, subtracting a number from an array makes intuitive sense, but on a computer science level this is a little odd.\n",
        "\n",
        "These operations add together two very different objects. One is two dimensional, the other is zero dimensional. Python accomplishes this by *broadcasting*. It takes a lower-dimensional object and copies it along each new axis until it is the same size as the higher-dimensional object. We'll talk more about this later. For now, I'll drop a link to the manual about how this happens: https://numpy.org/doc/stable/user/basics.broadcasting.html"
      ],
      "metadata": {
        "id": "BinQ42ua83El"
      }
    },
    {
      "cell_type": "code",
      "source": [
        "# Let's make a variable that's a slice of our canvas\n",
        "subcanvas = canvas[12:17,3:8]\n",
        "\n",
        "plt.imshow(subcanvas)\n",
        "plt.colorbar()"
      ],
      "metadata": {
        "colab": {
          "base_uri": "https://localhost:8080/",
          "height": 449
        },
        "id": "hkae65b4DEwT",
        "outputId": "dc1e307e-bc8b-4b8f-9b0b-92b9c514d71a"
      },
      "execution_count": null,
      "outputs": [
        {
          "output_type": "execute_result",
          "data": {
            "text/plain": [
              "<matplotlib.colorbar.Colorbar at 0x7fb488f47910>"
            ]
          },
          "metadata": {},
          "execution_count": 56
        },
        {
          "output_type": "display_data",
          "data": {
            "text/plain": [
              "<Figure size 640x480 with 2 Axes>"
            ],
            "image/png": "[encoded data removed]"
          },
          "metadata": {}
        }
      ]
    },
    {
      "cell_type": "code",
      "source": [
        "# Now, let's add some value, and see what happens\n",
        "subcanvas -= 999\n",
        "\n",
        "plt.imshow(subcanvas)\n",
        "plt.colorbar()"
      ],
      "metadata": {
        "colab": {
          "base_uri": "https://localhost:8080/",
          "height": 449
        },
        "id": "mB18nbBjDpYN",
        "outputId": "39dd53f8-8bd5-4b6b-8272-0e5c7d226aa2"
      },
      "execution_count": null,
      "outputs": [
        {
          "output_type": "execute_result",
          "data": {
            "text/plain": [
              "<matplotlib.colorbar.Colorbar at 0x7fb488ba9ff0>"
            ]
          },
          "metadata": {},
          "execution_count": 59
        },
        {
          "output_type": "display_data",
          "data": {
            "text/plain": [
              "<Figure size 640x480 with 2 Axes>"
            ],
            "image/png": "[encoded data removed]"
          },
          "metadata": {}
        }
      ]
    },
    {
      "cell_type": "code",
      "source": [
        "# But wait, that changed the main canvas too!\n",
        "\n",
        "plt.imshow(canvas)\n",
        "plt.colorbar()"
      ],
      "metadata": {
        "colab": {
          "base_uri": "https://localhost:8080/",
          "height": 454
        },
        "id": "iRqM4tK4ECbP",
        "outputId": "542f143e-e77b-4faf-a09d-e4d152b0b4f2"
      },
      "execution_count": null,
      "outputs": [
        {
          "output_type": "execute_result",
          "data": {
            "text/plain": [
              "<matplotlib.colorbar.Colorbar at 0x7fb488c5fa30>"
            ]
          },
          "metadata": {},
          "execution_count": 60
        },
        {
          "output_type": "display_data",
          "data": {
            "text/plain": [
              "<Figure size 640x480 with 2 Axes>"
            ],
            "image/png": "[encoded data removed]"
          },
          "metadata": {}
        }
      ]
    },
    {
      "cell_type": "markdown",
      "source": [
        "To reiterate, a slice is NOT its own object, it is a collection of pointers to values in the parent.  If you want to make a slice that you can edit freely without modifying the original data, make a copy!"
      ],
      "metadata": {
        "id": "24dOrAj8EiN7"
      }
    },
    {
      "cell_type": "code",
      "source": [
        "# Making a copy using numpy ndarray's built-in copy method (specific to this object)\n",
        "subcanvas = canvas[12:17,3:8].copy()\n",
        "# Making a copy using numpy's general copy function (can find a way to copy most objects)\n",
        "subcanvas = np.copy(canvas[12:17,3:8])"
      ],
      "metadata": {
        "id": "zyaW5WgWE2Kp"
      },
      "execution_count": null,
      "outputs": []
    },
    {
      "cell_type": "markdown",
      "source": [
        "# For loops and performance\n",
        "\n",
        "Python is slow, especially when looping through large datasets, and especially especially when doing nested loops through big arrays. C is faster than python, [about two orders of magnitude faster by some metrics](https://github.com/niklas-heer/speed-comparison). Numpy functions are written in C. Any time you can offload a for loop into a numpy function (usually a broadcast), you can greatly speed up your code."
      ],
      "metadata": {
        "id": "TBgsaV5EFiKM"
      }
    },
    {
      "cell_type": "code",
      "source": [
        "# not really all that big, but big enough to see the effect\n",
        "bigarray = np.ones((1000,1000))\n",
        "import time"
      ],
      "metadata": {
        "id": "zt06McR3Fpjq"
      },
      "execution_count": null,
      "outputs": []
    },
    {
      "cell_type": "code",
      "source": [
        "start = time.time()\n",
        "for i in range(len(bigarray)):\n",
        "    for j in range(len(bigarray[0])):\n",
        "        bigarray[i][j] + bigarray[j][i]\n",
        "\n",
        "print(\"for loops time: \" + str(time.time()-start))\n",
        "# On my computer this took 0.643669843673706 seconds"
      ],
      "metadata": {
        "colab": {
          "base_uri": "https://localhost:8080/"
        },
        "id": "vuowZ68xFtbA",
        "outputId": "e52675fa-ccbb-4492-9a1b-750539157497"
      },
      "execution_count": null,
      "outputs": [
        {
          "output_type": "stream",
          "name": "stdout",
          "text": [
            "for loops time: 1.5419435501098633\n"
          ]
        }
      ]
    },
    {
      "cell_type": "code",
      "source": [
        "start = time.time()\n",
        "bigarray + bigarray.transpose()\n",
        "print(\"with array transformation in C: \" + str(time.time()-start))\n",
        "# On my computer this took 0.005024433135986328 seconds"
      ],
      "metadata": {
        "colab": {
          "base_uri": "https://localhost:8080/"
        },
        "id": "axEmrAi4FuDt",
        "outputId": "605f3e27-f3c6-4dd2-d83f-bf689056fe2e"
      },
      "execution_count": null,
      "outputs": [
        {
          "output_type": "stream",
          "name": "stdout",
          "text": [
            "with array transformation in C: 0.019437074661254883\n"
          ]
        }
      ]
    },
    {
      "cell_type": "markdown",
      "source": [
        "You can easily see how this can really start to add up if you are doing more complex operations within the for loop, and/or operating on datasets that are actually really big.\n",
        "\n",
        "If your code is having performance problems, or if you just want to avoid them, a good rule of thumb is to offload as many for loops into C as possible. Sometimes this involves getting creative with array transformations and mathematical relationships.\n",
        "\n",
        "If you are having performance issues and aren't sure how to remove some of your for loops, this manual is your best friend: https://numpy.org/doc/stable/user/basics.broadcasting.html"
      ],
      "metadata": {
        "id": "nJVr9-7uF3dr"
      }
    },
    {
      "cell_type": "markdown",
      "source": [
        "###Functions\n",
        "Functions are an essential part of Python.\n",
        "The proper use of functions can save a lot of time when repeating the same tasts."
      ],
      "metadata": {
        "id": "CFpf06N0ceN4"
      }
    },
    {
      "cell_type": "code",
      "source": [
        "'''Below is a generic function\n",
        "\n",
        "def tells python that what follows is a function\n",
        "next is the function name, \"function\" in this case\n",
        "finally, the arguments go in the parenthesis\n",
        "'''\n",
        "\n",
        "def function(arg1, arg2):\n",
        "    '''This is a docstring\n",
        "    \n",
        "    it is good practice to include docstrings \n",
        "    at the start of defined functions\n",
        "    to explain what the function is doing.\n",
        "    This function just prints out the two input arguments\n",
        "    '''\n",
        "    \n",
        "    print(f'this is arg1: {arg1}') # using f'some text {variable}' puts the variable directly into string format\n",
        "    print(f'this is arg2: {arg2}') # look up f-string for more advanced use cases"
      ],
      "metadata": {
        "id": "lByxvow_ce-p"
      },
      "execution_count": 1,
      "outputs": []
    },
    {
      "cell_type": "markdown",
      "source": [
        "Let's test this function out!"
      ],
      "metadata": {
        "id": "hrunrJ38cuNm"
      }
    },
    {
      "cell_type": "code",
      "source": [
        "function(1, 'hello world')"
      ],
      "metadata": {
        "colab": {
          "base_uri": "https://localhost:8080/"
        },
        "id": "3KRrJcMYchIf",
        "outputId": "2ee57f97-b8f9-4b19-8e7e-24c30c5e0003"
      },
      "execution_count": 3,
      "outputs": [
        {
          "output_type": "stream",
          "name": "stdout",
          "text": [
            "this is arg1: 1\n",
            "this is arg2: hello world\n"
          ]
        }
      ]
    },
    {
      "cell_type": "markdown",
      "source": [
        "As expected, the function printed out the two input arguments using f-strings\n",
        "\n",
        "Let's try a more complicated function"
      ],
      "metadata": {
        "id": "8PtNCE0IctK9"
      }
    },
    {
      "cell_type": "code",
      "source": [
        "def circle_area(radius:float)->float:\n",
        "    '''Equation for the area of a circle\n",
        "    \n",
        "    radius is the circle radius'''\n",
        "    return 3.14159 * radius**2"
      ],
      "metadata": {
        "id": "bOJNV9Tmc7So"
      },
      "execution_count": 4,
      "outputs": []
    },
    {
      "cell_type": "markdown",
      "source": [
        "What a minute! What is all that new stuff in the function?\n",
        "\n",
        "Using :type in the arguments section of a function gives an indication of what type the input should be.\n",
        "\n",
        "This can help combat the issue of type errors.\n",
        "\n",
        "The ->type gives an indication of the output of the function.\n",
        "\n",
        "This ensures that if you use the output elsewhere it will be the type you want."
      ],
      "metadata": {
        "id": "yEKS2-OycrkV"
      }
    },
    {
      "cell_type": "code",
      "source": [
        "# we can set variables equal to the output of a function\n",
        "\n",
        "area_1 = circle_area(1)\n",
        "area_5 = circle_area(5)\n",
        "\n",
        "print(area_1)\n",
        "print(area_5)"
      ],
      "metadata": {
        "colab": {
          "base_uri": "https://localhost:8080/"
        },
        "id": "zQKKKuQUc-DF",
        "outputId": "d4e05f66-eab3-4d85-90ea-cdaa7b6ab52c"
      },
      "execution_count": 5,
      "outputs": [
        {
          "output_type": "stream",
          "name": "stdout",
          "text": [
            "3.14159\n",
            "78.53975\n"
          ]
        }
      ]
    },
    {
      "cell_type": "code",
      "source": [
        "# if the function does not return anything then the variable takes the None type\n",
        "\n",
        "func_1 = function(1,2)\n",
        "\n",
        "print(type(func_1))\n",
        "print(type(area_1))"
      ],
      "metadata": {
        "colab": {
          "base_uri": "https://localhost:8080/"
        },
        "id": "Mv_NXopsc_4i",
        "outputId": "e9e69e89-9104-433c-81cc-37d6b35f1e9c"
      },
      "execution_count": 7,
      "outputs": [
        {
          "output_type": "stream",
          "name": "stdout",
          "text": [
            "this is arg1: 1\n",
            "this is arg2: 2\n",
            "<class 'NoneType'>\n",
            "<class 'float'>\n"
          ]
        }
      ]
    },
    {
      "cell_type": "markdown",
      "source": [
        "Functions should be used anywhere code is being repeated.\n",
        "\n",
        "This cleans up your workplace from being cluttered with repeat code.\n",
        "\n",
        "It also ensures that if you want to change your code, you only have to do it once."
      ],
      "metadata": {
        "id": "38Yu-JstdMdW"
      }
    },
    {
      "cell_type": "markdown",
      "source": [
        "### Classes\n",
        "\n",
        "Many things you are used to working with in Python are classes. This is because classes are extremely powerful.\n",
        "\n",
        "Objects in Python are formed from classes and save unique information about that object."
      ],
      "metadata": {
        "id": "1wqGhfwRdNc3"
      }
    },
    {
      "cell_type": "code",
      "source": [
        "'''Below is a generic class\n",
        "\n",
        "class tells python that what follows is a class\n",
        "next is the class name, \"Class\" in this case\n",
        "it is common practice for class names to be capitalized\n",
        "'''\n",
        "\n",
        "class Class:\n",
        "    PI = 3.1415 # we can set class values here"
      ],
      "metadata": {
        "id": "zfTOSWI4dFBp"
      },
      "execution_count": 8,
      "outputs": []
    },
    {
      "cell_type": "code",
      "source": [
        "# let's make a single class instance\n",
        "class_instance_one = Class()"
      ],
      "metadata": {
        "id": "4IyQR-N_dRqV"
      },
      "execution_count": 9,
      "outputs": []
    },
    {
      "cell_type": "code",
      "source": [
        "# see that the instance type is that of the class\n",
        "print(type(class_instance_one))"
      ],
      "metadata": {
        "colab": {
          "base_uri": "https://localhost:8080/"
        },
        "id": "hXtfpT3jdTUh",
        "outputId": "12990f3c-e759-4047-8ecb-bf8b0df62e38"
      },
      "execution_count": 10,
      "outputs": [
        {
          "output_type": "stream",
          "name": "stdout",
          "text": [
            "<class '__main__.Class'>\n"
          ]
        }
      ]
    },
    {
      "cell_type": "code",
      "source": [
        "# the class value is kept for all instances\n",
        "class_instance_one.PI"
      ],
      "metadata": {
        "colab": {
          "base_uri": "https://localhost:8080/"
        },
        "id": "6RRzFVl9dUyn",
        "outputId": "52ceee98-e7c3-492a-aed5-b967eb409fe8"
      },
      "execution_count": 11,
      "outputs": [
        {
          "output_type": "execute_result",
          "data": {
            "text/plain": [
              "3.1415"
            ]
          },
          "metadata": {},
          "execution_count": 11
        }
      ]
    },
    {
      "cell_type": "markdown",
      "source": [
        "The main power of classes comes from each instance being customizeable"
      ],
      "metadata": {
        "id": "b1L6UPTZdZLE"
      }
    },
    {
      "cell_type": "code",
      "source": [
        "class Custom:\n",
        "    '''Example class to show instance\n",
        "    \n",
        "    __init__ initializes an instance of a class\n",
        "    self refers to this instance of the class\n",
        "    argument is the input that makes this instance unique\n",
        "    self.argument is known as an instance variable\n",
        "    '''\n",
        "    def __init__(self, argument):\n",
        "        self.arg = argument"
      ],
      "metadata": {
        "id": "0XLrAwTfdWXh"
      },
      "execution_count": 12,
      "outputs": []
    },
    {
      "cell_type": "code",
      "source": [
        "# here we make a custom object with is an instance of the Custom class\n",
        "custom = Custom(0)"
      ],
      "metadata": {
        "id": "iZmnYWDHdbmy"
      },
      "execution_count": 13,
      "outputs": []
    },
    {
      "cell_type": "code",
      "source": [
        "# custom is now whatt self was in the class definition\n",
        "# custom.arg saves the original input\n",
        "print(custom.arg)"
      ],
      "metadata": {
        "colab": {
          "base_uri": "https://localhost:8080/"
        },
        "id": "jQZ0N0PiddgT",
        "outputId": "93af6e45-24dc-41eb-9e83-0b0afa1d37de"
      },
      "execution_count": 14,
      "outputs": [
        {
          "output_type": "stream",
          "name": "stdout",
          "text": [
            "0\n"
          ]
        }
      ]
    },
    {
      "cell_type": "code",
      "source": [
        "class Complex(Custom):\n",
        "    '''Example class to show inheritance and methods\n",
        "    \n",
        "    putting Custom in Complex allows Complex access to the Custom __init__\n",
        "    a method is a function defined within a class\n",
        "    you call is as class_instance.method()\n",
        "    '''\n",
        "    def print_out(self):\n",
        "        '''Method for printing out the instance argument\n",
        "        \n",
        "        self refers to the instance of the Complex class\n",
        "        without self the function cannot access the '''\n",
        "        print(f'argument is: {self.arg}')"
      ],
      "metadata": {
        "id": "coWIyJbMdfA_"
      },
      "execution_count": 15,
      "outputs": []
    },
    {
      "cell_type": "code",
      "source": [
        "complex = Complex(0)"
      ],
      "metadata": {
        "id": "NyA71ukidhC6"
      },
      "execution_count": 16,
      "outputs": []
    },
    {
      "cell_type": "code",
      "source": [
        "complex.print_out()"
      ],
      "metadata": {
        "colab": {
          "base_uri": "https://localhost:8080/"
        },
        "id": "5RqAt0etdivV",
        "outputId": "d583a96e-a45f-4010-c7f4-c5fb926eab82"
      },
      "execution_count": 17,
      "outputs": [
        {
          "output_type": "stream",
          "name": "stdout",
          "text": [
            "argument is: 0\n"
          ]
        }
      ]
    },
    {
      "cell_type": "markdown",
      "source": [
        "Let's combine the class idea with a function from earlier"
      ],
      "metadata": {
        "id": "nOXZy4_TdmZM"
      }
    },
    {
      "cell_type": "code",
      "source": [
        "class Circle:\n",
        "    PI = 3.14159\n",
        "    def __init__(self, radius:float): # note, no ->type here because nothing is being returned\n",
        "        '''Class that represents a circle\n",
        "        \n",
        "        radius is the radius of the circle instance'''\n",
        "        self.radius = radius\n",
        "    \n",
        "    def area(self)->float: # ->float here because the method returns a float\n",
        "        '''Calculate the area of the circle'''\n",
        "        return self.PI * self.radius**2"
      ],
      "metadata": {
        "id": "toXHUQMBdkBn"
      },
      "execution_count": 18,
      "outputs": []
    },
    {
      "cell_type": "code",
      "source": [
        "circle_1 = Circle(1)\n",
        "circle_5 = Circle(5)"
      ],
      "metadata": {
        "id": "g5sShNgFdop_"
      },
      "execution_count": 19,
      "outputs": []
    },
    {
      "cell_type": "code",
      "source": [
        "print(circle_1.area())\n",
        "print(circle_5.area())"
      ],
      "metadata": {
        "colab": {
          "base_uri": "https://localhost:8080/"
        },
        "id": "zmVQmxRodqUU",
        "outputId": "674bed92-f7ad-4181-c39c-c3ff367601ef"
      },
      "execution_count": 20,
      "outputs": [
        {
          "output_type": "stream",
          "name": "stdout",
          "text": [
            "3.14159\n",
            "78.53975\n"
          ]
        }
      ]
    },
    {
      "cell_type": "markdown",
      "source": [
        "#### Group Project\n",
        "\n",
        "The best way to learn Python is by writing Python code!\n",
        "\n",
        "For the first assignment, go back to the main Jupyter Notebook window in your browser.\n",
        "\n",
        "Click New and then Text File. Name the file my_class.py.\n",
        "\n",
        "In this file write a Sphere class that takes radius as input.\n",
        "\n",
        "Add two methods that compute the surface area and volume, respectively.\n",
        "\n",
        "Make a new Notebook and  do \"import my_class.Sphere as Sphere\"\n",
        "\n",
        "Generate multiple instances of the Sphere class with different radii.\n",
        "\n",
        "Print out the radius, surface area, and volume of each sphere."
      ],
      "metadata": {
        "id": "EJZ-iN0QduS9"
      }
    },
    {
      "cell_type": "markdown",
      "source": [
        "### Second Project\n",
        "\n",
        "Make a new file called functions.py.\n",
        "\n",
        "Write a function called make_array that takes in two numpy arrays.\n",
        "\n",
        "The function should return a 2d numpy array for the value of your function at each point along the arrays.\n",
        "\n",
        "You can make the function as complex as you like.\n",
        "\n",
        "Write a second function called make_plot that uses .pcolormesh to plot the 2darray.\n",
        "\n",
        "Import the .py file into a notebook with \"import functions as func\"\n",
        "\n",
        "Define your arrays in the notebook and pass them into the imported func.make_array function\n",
        "\n",
        "Plot the resulting array with funct.make_plot\n",
        "\n",
        "Can you combine both of these functions into the methods of a single class?"
      ],
      "metadata": {
        "id": "5W9npajcdzfO"
      }
    },
    {
      "cell_type": "code",
      "source": [],
      "metadata": {
        "id": "049m5kNKdzys"
      },
      "execution_count": null,
      "outputs": []
    }
  ]
}
